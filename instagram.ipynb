{
 "cells": [
  {
   "cell_type": "markdown",
   "metadata": {},
   "source": [
    "# Instagram"
   ]
  },
  {
   "cell_type": "markdown",
   "metadata": {},
   "source": [
    "## create config"
   ]
  },
  {
   "cell_type": "code",
   "execution_count": null,
   "metadata": {},
   "outputs": [],
   "source": [
    "USERNAME = ''\n",
    "PASSWORD = ''"
   ]
  },
  {
   "cell_type": "markdown",
   "metadata": {},
   "source": [
    "## test InstagramAPI\n",
    "test.py"
   ]
  },
  {
   "cell_type": "code",
   "execution_count": null,
   "metadata": {},
   "outputs": [],
   "source": [
    "from InstagramAPI import InstagramAPI\n",
    "\n",
    "API = InstagramAPI(USERNAME, PASSWORD)\n",
    "API.login()\n",
    "\n",
    "API.getTimeline()\n",
    "result = API.LastJson\n",
    "\n",
    "print(result)\n",
    "\n",
    "API.logout()"
   ]
  },
  {
   "cell_type": "markdown",
   "metadata": {},
   "source": [
    "## getTags.py"
   ]
  },
  {
   "cell_type": "code",
   "execution_count": null,
   "metadata": {},
   "outputs": [],
   "source": [
    "import time\n",
    "import json\n",
    "import random\n",
    "from datetime import datetime\n",
    "from InstagramAPI import InstagramAPI\n",
    "\n",
    "tag = 'ugm'\n",
    "username = ''\n",
    "pwd = ''\n",
    "\n",
    "API = InstagramAPI(USERNAME, PASSWORD)\n",
    "API.login()\n",
    "page = 1\n",
    "more_available = True\n",
    "data = []\n",
    "\n",
    "while more_available:\n",
    "    try:\n",
    "        API.tagFeed(tag)\n",
    "        datum = API.LastJson\n",
    "    \n",
    "        if not datum['more_available']:\n",
    "            more_available = False\n",
    "        data.append([datum])\n",
    "        print(str(page))\n",
    "        page += 1\n",
    "        time.sleep(5 * random.random())\n",
    "        \n",
    "        if page == 5:\n",
    "            more_available = False\n",
    "    except:\n",
    "        more_available = False\n",
    "\n",
    "with open(tag+'.json', 'w') as outfile:\n",
    "    json.dump(data, outfile, indent=4)\n"
   ]
  },
  {
   "cell_type": "code",
   "execution_count": null,
   "metadata": {},
   "outputs": [],
   "source": [
    "from sentiment import SentiStrength\n",
    "\n",
    "content = \"Moment from @ipihfitriani\\n\\u2022 \\u2022 \\u2022\\n\\\"Alhamdulillah, bismillah \\ud83c\\udf93S.E\\nTERIMAKASIH untuk doa dan dukungannya untuk semuanya\\ud83d\\ude4f\\\" #masakuliah #anakkuliah #mahasiswa #kampus #ipb #upi #campus #campuslife #masukkampus #ceritakuliah #mahasiswaindonesia #kampusindonesia #pejuangsarjana #pejuangskripsi #itb #UGM #ui #unpad #its #unibraw #unsoed #unri #Unsyiah #unsri #unand #unila #UNS #UPN #unair #usu\"\n",
    "\n",
    "sentistrength_id = SentiStrength()\n",
    "result = sentistrength_id.main(content)\n",
    "sentiment = result['kelas']\n",
    "\n",
    "print(sentiment)"
   ]
  },
  {
   "cell_type": "code",
   "execution_count": null,
   "metadata": {},
   "outputs": [],
   "source": []
  }
 ],
 "metadata": {
  "kernelspec": {
   "display_name": "Python 2",
   "language": "python",
   "name": "python2"
  },
  "language_info": {
   "codemirror_mode": {
    "name": "ipython",
    "version": 2
   },
   "file_extension": ".py",
   "mimetype": "text/x-python",
   "name": "python",
   "nbconvert_exporter": "python",
   "pygments_lexer": "ipython2",
   "version": "2.7.13"
  }
 },
 "nbformat": 4,
 "nbformat_minor": 2
}
